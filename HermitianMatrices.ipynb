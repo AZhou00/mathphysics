{
 "cells": [
  {
   "cell_type": "markdown",
   "metadata": {},
   "source": [
    "# Hermitian matrices (via sympy)"
   ]
  },
  {
   "cell_type": "markdown",
   "metadata": {},
   "source": [
    "Recall that for a $N\\times N$ Hermitian matrix, we have the properties\n",
    "\n",
    "\\begin{aligned}\n",
    "A &= A^{\\dag} \\text{ or } \\\\\n",
    "a_{ij} &= a_{ji}^* \\end{aligned}\n",
    "\n",
    "So for $i,j \\in \\lbrace 1, 2 , \\dots N \\rbrace$, $N^2$ entries, $\\frac{ N(N-1) }{2}$ off diagonal complex entries, $N$  *real*, diagonal entries. \n",
    "\n",
    "Given upper triangular entries $a_{ij}$, $i<j$, \n",
    "Consider $\\lbrace (i,j) | i< j \\text{ and } i,j \\in \\lbrace 1 , 2 \\dots N \\rbrace \\rbrace \\to \\lbrace k | k \\in \\lbrace 1 , 2 , \\dots , \\frac{N (N-1) }{2} \\rbrace \\rbrace$  \n",
    "\n",
    "\\begin{aligned}\n",
    "\\begin{matrix} \n",
    "12 & 13 \\\\\n",
    " & 23 \\end{matrix}  & \n",
    "\\begin{matrix} \n",
    "1 & 2 \\\\\n",
    " & 3 \\end{matrix}\n",
    "\\end{matrix}\n",
    "\\end{aligned} \n",
    "\n",
    "$\\begin{aligned}\n",
    "\\begin{matrix}\n",
    "12 & 13 & 14 \\\\\n",
    "& 23 & 24 \\\\\n",
    "& & 34 \\end{matrix} \\qquad \\, & \\qquad \\, \\begin{matrix}\n",
    "1 & 2 & 3 \\\\\n",
    "& 4 & 5 \\\\\n",
    "& & 6 \\end{matrix} \\end{aligned}$\n",
    "\n",
    "$\\begin{aligned}\n",
    "\\begin{matrix}\n",
    "12 & 13 & 14 & 15 \\\\\n",
    "& 23 & 24 & 25 \\\\\n",
    "& & 34 & 35 \\\\ \n",
    "& & & 45 \\end{matrix} \\qquad \\, & \\qquad \\, \\begin{matrix}\n",
    "1 & 2 & 3 & 4 \\\\\n",
    "& 5 & 6 & 7 \\\\\n",
    "& & 8 & 9 \\\\ & & & 10 \\end{matrix} \\end{aligned}$\n",
    "\n",
    "$\\forall \\, i \\lbrace 1, 2, \\dots N - 1 \\rbrace$, \n",
    "consider \n",
    "\\begin{gathered}\n",
    "N-1 + N - 2 + \\dots + N - (i-1) = (i-1)N + - \\sum_{k=1}^{i-1} k = (i-1)N - \\frac{ (i-1)i }{2} = \\frac{ (i-1)(2N-i) }{2}\n",
    "\\end{gathered}\n",
    "\n",
    "and so \n",
    "\n",
    "\\begin{equation}\n",
    "\\begin{gathered} \\lbrace (i,j) | i< j \\text{ and } i,j \\in \\lbrace 1, 2, \\dots N \\rbrace \\rbrace \\to \\lbrace k | k \\in \\lbrace 1,  2, \\dots , \\frac{N(N-1)}{2} \\rbrace \\rbrace \\\\\n",
    "    (i,j) \\mapsto k = \\frac{ (i-1)(2N-i) }{2} + j -i\n",
    "\\end{gathered}\n",
    "\\end{equation}"
   ]
  },
  {
   "cell_type": "code",
   "execution_count": 1,
   "metadata": {
    "collapsed": true
   },
   "outputs": [],
   "source": [
    "import sympy"
   ]
  },
  {
   "cell_type": "code",
   "execution_count": 110,
   "metadata": {
    "collapsed": false
   },
   "outputs": [],
   "source": [
    "from sympy import diag, Matrix, Symbol, symbols, exp, I, integrate, oo, latex, pretty_print, sqrt, pi"
   ]
  },
  {
   "cell_type": "code",
   "execution_count": 94,
   "metadata": {
    "collapsed": true
   },
   "outputs": [],
   "source": [
    "from sympy.abc import x"
   ]
  },
  {
   "cell_type": "code",
   "execution_count": 46,
   "metadata": {
    "collapsed": true
   },
   "outputs": [],
   "source": [
    "from sympy import Rational as Rat"
   ]
  },
  {
   "cell_type": "code",
   "execution_count": 7,
   "metadata": {
    "collapsed": false
   },
   "outputs": [
    {
     "name": "stdout",
     "output_type": "stream",
     "text": [
      "6\n"
     ]
    }
   ],
   "source": [
    "N = 4; print N*(N-1)/2"
   ]
  },
  {
   "cell_type": "code",
   "execution_count": 62,
   "metadata": {
    "collapsed": true
   },
   "outputs": [],
   "source": [
    "entriesz = symbols(\"z1:\"+str(N*(N-1)/2 + 1), complex=True)"
   ]
  },
  {
   "cell_type": "code",
   "execution_count": 20,
   "metadata": {
    "collapsed": false
   },
   "outputs": [
    {
     "data": {
      "text/plain": [
       "z1"
      ]
     },
     "execution_count": 20,
     "metadata": {},
     "output_type": "execute_result"
    }
   ],
   "source": [
    "entriesz[0]"
   ]
  },
  {
   "cell_type": "code",
   "execution_count": 21,
   "metadata": {
    "collapsed": false
   },
   "outputs": [
    {
     "data": {
      "text/plain": [
       "6"
      ]
     },
     "execution_count": 21,
     "metadata": {},
     "output_type": "execute_result"
    }
   ],
   "source": [
    "len(entriesz)"
   ]
  },
  {
   "cell_type": "code",
   "execution_count": 22,
   "metadata": {
    "collapsed": true
   },
   "outputs": [],
   "source": [
    "realentriesd = symbols(\"x1:\"+str(N+1), real=True)"
   ]
  },
  {
   "cell_type": "code",
   "execution_count": 11,
   "metadata": {
    "collapsed": false
   },
   "outputs": [
    {
     "data": {
      "text/plain": [
       "conjugate(z0)"
      ]
     },
     "execution_count": 11,
     "metadata": {},
     "output_type": "execute_result"
    }
   ],
   "source": [
    "entriesz[0].conjugate()"
   ]
  },
  {
   "cell_type": "code",
   "execution_count": 15,
   "metadata": {
    "collapsed": false
   },
   "outputs": [
    {
     "data": {
      "text/plain": [
       "[1, 2, 3, 4]"
      ]
     },
     "execution_count": 15,
     "metadata": {},
     "output_type": "execute_result"
    }
   ],
   "source": [
    "range(1,N+1)"
   ]
  },
  {
   "cell_type": "code",
   "execution_count": 24,
   "metadata": {
    "collapsed": false
   },
   "outputs": [
    {
     "data": {
      "text/plain": [
       "[conjugate(z4), conjugate(z3)]"
      ]
     },
     "execution_count": 24,
     "metadata": {},
     "output_type": "execute_result"
    }
   ],
   "source": [
    "[entriesz[k].conjugate() for k in range(3,1,-1)]"
   ]
  },
  {
   "cell_type": "code",
   "execution_count": 65,
   "metadata": {
    "collapsed": false
   },
   "outputs": [
    {
     "data": {
      "text/plain": [
       "(z1, z2, z3, z4, z5, z6)"
      ]
     },
     "execution_count": 65,
     "metadata": {},
     "output_type": "execute_result"
    }
   ],
   "source": [
    "entriesz"
   ]
  },
  {
   "cell_type": "code",
   "execution_count": 64,
   "metadata": {
    "collapsed": false
   },
   "outputs": [],
   "source": [
    "entriesz_list = list( entriesz)\n",
    "uppertrimat_H = []\n",
    "for i in range(1,N):\n",
    "    row = []\n",
    "    for j in range(1,i+1):\n",
    "        row.append( Rat(0) )\n",
    "    for j in range(i+1,N+1):\n",
    "        row.append( entriesz_list.pop(0))\n",
    "    uppertrimat_H.append(row)\n",
    "    \n",
    "uppertrimat_H.append( [ Rat(0) for j in range(1,N+1)])"
   ]
  },
  {
   "cell_type": "code",
   "execution_count": 76,
   "metadata": {
    "collapsed": false
   },
   "outputs": [
    {
     "data": {
      "text/plain": [
       "[[0, z1, z2, z3], [0, 0, z4, z5], [0, 0, 0, z6], [0, 0, 0, 0]]"
      ]
     },
     "execution_count": 76,
     "metadata": {},
     "output_type": "execute_result"
    }
   ],
   "source": [
    "uppertrimat_H"
   ]
  },
  {
   "cell_type": "code",
   "execution_count": 77,
   "metadata": {
    "collapsed": false
   },
   "outputs": [],
   "source": [
    "uppertrimat_H = Matrix( uppertrimat_H)"
   ]
  },
  {
   "cell_type": "code",
   "execution_count": 78,
   "metadata": {
    "collapsed": false
   },
   "outputs": [
    {
     "data": {
      "text/plain": [
       "Matrix([\n",
       "[0, z1, z2, z3],\n",
       "[0,  0, z4, z5],\n",
       "[0,  0,  0, z6],\n",
       "[0,  0,  0,  0]])"
      ]
     },
     "execution_count": 78,
     "metadata": {},
     "output_type": "execute_result"
    }
   ],
   "source": [
    "uppertrimat_H"
   ]
  },
  {
   "cell_type": "code",
   "execution_count": 60,
   "metadata": {
    "collapsed": false
   },
   "outputs": [
    {
     "data": {
      "text/plain": [
       "Matrix([\n",
       "[ 0,  0,  0, 0],\n",
       "[z1,  0,  0, 0],\n",
       "[z2, z4,  0, 0],\n",
       "[z3, z5, z6, 0]])"
      ]
     },
     "execution_count": 60,
     "metadata": {},
     "output_type": "execute_result"
    }
   ],
   "source": [
    "uppertrimat_H.T"
   ]
  },
  {
   "cell_type": "code",
   "execution_count": 66,
   "metadata": {
    "collapsed": false
   },
   "outputs": [],
   "source": [
    "entriesz_list_conj = [ z.conjugate() for z in entriesz]\n",
    "lowertrimat_H = []\n",
    "for i in range(1,N):\n",
    "    row = []\n",
    "    for j in range(1,i+1):\n",
    "        row.append( Rat(0) )\n",
    "    for j in range(i+1,N+1):\n",
    "        row.append( entriesz_list_conj.pop(0))\n",
    "    lowertrimat_H.append(row)\n",
    "    \n",
    "lowertrimat_H.append( [ Rat(0) for j in range(1,N+1)])"
   ]
  },
  {
   "cell_type": "code",
   "execution_count": 67,
   "metadata": {
    "collapsed": false
   },
   "outputs": [
    {
     "data": {
      "text/plain": [
       "[[0, conjugate(z1), conjugate(z2), conjugate(z3)],\n",
       " [0, 0, conjugate(z4), conjugate(z5)],\n",
       " [0, 0, 0, conjugate(z6)],\n",
       " [0, 0, 0, 0]]"
      ]
     },
     "execution_count": 67,
     "metadata": {},
     "output_type": "execute_result"
    }
   ],
   "source": [
    "lowertrimat_H"
   ]
  },
  {
   "cell_type": "code",
   "execution_count": 69,
   "metadata": {
    "collapsed": false
   },
   "outputs": [],
   "source": [
    "lowertrimat_H = Matrix(lowertrimat_H).T"
   ]
  },
  {
   "cell_type": "code",
   "execution_count": 70,
   "metadata": {
    "collapsed": false
   },
   "outputs": [
    {
     "data": {
      "text/plain": [
       "Matrix([\n",
       "[            0,             0,             0, 0],\n",
       "[conjugate(z1),             0,             0, 0],\n",
       "[conjugate(z2), conjugate(z4),             0, 0],\n",
       "[conjugate(z3), conjugate(z5), conjugate(z6), 0]])"
      ]
     },
     "execution_count": 70,
     "metadata": {},
     "output_type": "execute_result"
    }
   ],
   "source": [
    "lowertrimat_H"
   ]
  },
  {
   "cell_type": "code",
   "execution_count": 74,
   "metadata": {
    "collapsed": false
   },
   "outputs": [
    {
     "data": {
      "text/plain": [
       "Matrix([\n",
       "[x1,  0,  0,  0],\n",
       "[ 0, x2,  0,  0],\n",
       "[ 0,  0, x3,  0],\n",
       "[ 0,  0,  0, x4]])"
      ]
     },
     "execution_count": 74,
     "metadata": {},
     "output_type": "execute_result"
    }
   ],
   "source": [
    "diag( *realentriesd )"
   ]
  },
  {
   "cell_type": "code",
   "execution_count": 79,
   "metadata": {
    "collapsed": false
   },
   "outputs": [],
   "source": [
    "HermitianMatrix = diag( *realentriesd ) + uppertrimat_H + lowertrimat_H "
   ]
  },
  {
   "cell_type": "code",
   "execution_count": 80,
   "metadata": {
    "collapsed": false
   },
   "outputs": [
    {
     "data": {
      "text/plain": [
       "Matrix([\n",
       "[           x1,            z1,            z2, z3],\n",
       "[conjugate(z1),            x2,            z4, z5],\n",
       "[conjugate(z2), conjugate(z4),            x3, z6],\n",
       "[conjugate(z3), conjugate(z5), conjugate(z6), x4]])"
      ]
     },
     "execution_count": 80,
     "metadata": {},
     "output_type": "execute_result"
    }
   ],
   "source": [
    "HermitianMatrix"
   ]
  },
  {
   "cell_type": "code",
   "execution_count": 88,
   "metadata": {
    "collapsed": true
   },
   "outputs": [],
   "source": [
    "def HermitianMatrixCreator( N, MatName=\"\" ):\n",
    "    \"\"\"\n",
    "    HermitianMatrixCreator( N ) \n",
    "    Creates and returns a NxN Hermitian matrix; \n",
    "    with the optional argument, you can add further notation to each entry to denote which matrix it belongs to\n",
    "    \"\"\"\n",
    "    if MatName == \"\":\n",
    "        entriesz        = symbols(\"z1:\"+str(N*(N-1)/2 + 1), complex=True)\n",
    "        realentriesdiag = symbols(\"x1:\"+str(N+1), real=True)\n",
    "    else:\n",
    "        entriesz        = symbols(MatName+\"z1:\"+str(N*(N-1)/2 + 1), complex=True)\n",
    "        realentriesdiag = symbols(MatName+\"x1:\"+str(N+1), real=True)\n",
    "    \n",
    "    entriesz_list = list( entriesz)\n",
    "    uppertrimat_H = []\n",
    "    for i in range(1,N):\n",
    "        row = []\n",
    "        for j in range(1,i+1):\n",
    "            row.append( Rat(0) )\n",
    "        for j in range(i+1,N+1):\n",
    "            row.append( entriesz_list.pop(0))\n",
    "        uppertrimat_H.append(row)\n",
    "    \n",
    "    uppertrimat_H.append( [ Rat(0) for j in range(1,N+1)])\n",
    "    uppertrimat_H = Matrix( uppertrimat_H)\n",
    "    \n",
    "    entriesz_list_conj = [ z.conjugate() for z in entriesz]\n",
    "    lowertrimat_H = []\n",
    "    for i in range(1,N):\n",
    "        row = []\n",
    "        for j in range(1,i+1):\n",
    "            row.append( Rat(0) )\n",
    "        for j in range(i+1,N+1):\n",
    "            row.append( entriesz_list_conj.pop(0))\n",
    "        lowertrimat_H.append(row)\n",
    "    \n",
    "    lowertrimat_H.append( [ Rat(0) for j in range(1,N+1)])\n",
    "    lowertrimat_H = Matrix(lowertrimat_H).T\n",
    "     \n",
    "    HermitianMatrix = diag( *realentriesdiag ) + uppertrimat_H + lowertrimat_H \n",
    "    return HermitianMatrix;"
   ]
  },
  {
   "cell_type": "code",
   "execution_count": 89,
   "metadata": {
    "collapsed": false
   },
   "outputs": [
    {
     "data": {
      "text/plain": [
       "Matrix([\n",
       "[           x1,            z1,            z2,             z3,  z4],\n",
       "[conjugate(z1),            x2,            z5,             z6,  z7],\n",
       "[conjugate(z2), conjugate(z5),            x3,             z8,  z9],\n",
       "[conjugate(z3), conjugate(z6), conjugate(z8),             x4, z10],\n",
       "[conjugate(z4), conjugate(z7), conjugate(z9), conjugate(z10),  x5]])"
      ]
     },
     "execution_count": 89,
     "metadata": {},
     "output_type": "execute_result"
    }
   ],
   "source": [
    "HermitianMatrixCreator(5)"
   ]
  },
  {
   "cell_type": "code",
   "execution_count": 90,
   "metadata": {
    "collapsed": false
   },
   "outputs": [
    {
     "data": {
      "text/plain": [
       "Matrix([\n",
       "[           Ax1,            Az1,            Az2,             Az3,  Az4],\n",
       "[conjugate(Az1),            Ax2,            Az5,             Az6,  Az7],\n",
       "[conjugate(Az2), conjugate(Az5),            Ax3,             Az8,  Az9],\n",
       "[conjugate(Az3), conjugate(Az6), conjugate(Az8),             Ax4, Az10],\n",
       "[conjugate(Az4), conjugate(Az7), conjugate(Az9), conjugate(Az10),  Ax5]])"
      ]
     },
     "execution_count": 90,
     "metadata": {},
     "output_type": "execute_result"
    }
   ],
   "source": [
    "A = HermitianMatrixCreator(5,\"A\"); A"
   ]
  },
  {
   "cell_type": "code",
   "execution_count": 92,
   "metadata": {
    "collapsed": false
   },
   "outputs": [
    {
     "data": {
      "text/plain": [
       "Ax1 + Ax2 + Ax3 + Ax4 + Ax5"
      ]
     },
     "execution_count": 92,
     "metadata": {},
     "output_type": "execute_result"
    }
   ],
   "source": [
    "A.trace()"
   ]
  },
  {
   "cell_type": "markdown",
   "metadata": {},
   "source": [
    "For \n",
    "\n",
    "$\n",
    "\\langle x^{2n} \\rangle = \\frac{1}{ \\sqrt{2 \\pi } } \\int_{-\\infty}^{\\infty} \\exp{ - \\frac{x^2}{2}} x^{2n} dx = (2n-1)!! = \\frac{(2n)!}{2^n n!}\n",
    "$"
   ]
  },
  {
   "cell_type": "code",
   "execution_count": 112,
   "metadata": {
    "collapsed": true
   },
   "outputs": [],
   "source": [
    "n = Symbol(\"n\", integer=True, positive=True)"
   ]
  },
  {
   "cell_type": "code",
   "execution_count": 109,
   "metadata": {
    "collapsed": false
   },
   "outputs": [
    {
     "name": "stdout",
     "output_type": "stream",
     "text": [
      "√2⋅√π\n"
     ]
    }
   ],
   "source": [
    "pretty_print( integrate(exp(-x**2/2)*x**2, (x, -oo, oo) ) )"
   ]
  },
  {
   "cell_type": "markdown",
   "metadata": {},
   "source": [
    "$ n = 2 $"
   ]
  },
  {
   "cell_type": "code",
   "execution_count": 114,
   "metadata": {
    "collapsed": false
   },
   "outputs": [
    {
     "name": "stdout",
     "output_type": "stream",
     "text": [
      "    n - 1/2           \n",
      "√2⋅2       ⋅Γ(n + 1/2)\n",
      "──────────────────────\n",
      "          √π          \n"
     ]
    }
   ],
   "source": [
    "pretty_print( integrate(Rat(1)/sqrt( Rat(2) * pi ) * exp(-x**2/2)*x**(2*n), (x, -oo, oo) ) )"
   ]
  },
  {
   "cell_type": "code",
   "execution_count": null,
   "metadata": {
    "collapsed": true
   },
   "outputs": [],
   "source": []
  }
 ],
 "metadata": {
  "kernelspec": {
   "display_name": "Python 2",
   "language": "python",
   "name": "python2"
  },
  "language_info": {
   "codemirror_mode": {
    "name": "ipython",
    "version": 2
   },
   "file_extension": ".py",
   "mimetype": "text/x-python",
   "name": "python",
   "nbconvert_exporter": "python",
   "pygments_lexer": "ipython2",
   "version": "2.7.12"
  }
 },
 "nbformat": 4,
 "nbformat_minor": 0
}
